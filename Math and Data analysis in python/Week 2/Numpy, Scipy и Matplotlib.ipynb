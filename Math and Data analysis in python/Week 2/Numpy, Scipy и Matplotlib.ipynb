{
 "cells": [
  {
   "cell_type": "markdown",
   "metadata": {},
   "source": [
    "# Первое знакомство с NumPy, SciPy и Matplotlib"
   ]
  },
  {
   "cell_type": "markdown",
   "metadata": {},
   "source": [
    "#### NumPy is a Python library used for working with arrays."
   ]
  },
  {
   "cell_type": "markdown",
   "metadata": {},
   "source": [
    "## Numpy"
   ]
  },
  {
   "cell_type": "markdown",
   "metadata": {},
   "source": [
    "#### Advantages of using Numpy Arrays Over Python Lists:\n",
    "\n",
    "1. Consumes less memory.\n",
    "2. Fast as compared to the python List.\n",
    "3. Convenient to use."
   ]
  },
  {
   "cell_type": "code",
   "execution_count": 1,
   "metadata": {},
   "outputs": [],
   "source": [
    "import numpy as np"
   ]
  },
  {
   "cell_type": "code",
   "execution_count": 2,
   "metadata": {},
   "outputs": [],
   "source": [
    "x = [2, 3, 4, 6]\n",
    "y = np.array(x)"
   ]
  },
  {
   "cell_type": "code",
   "execution_count": 3,
   "metadata": {},
   "outputs": [
    {
     "name": "stdout",
     "output_type": "stream",
     "text": [
      "<class 'list'> [2, 3, 4, 6]\n",
      "<class 'numpy.ndarray'> [2 3 4 6]\n"
     ]
    }
   ],
   "source": [
    "print (type(x), x)\n",
    "print (type(y), y)"
   ]
  },
  {
   "cell_type": "code",
   "execution_count": 4,
   "metadata": {},
   "outputs": [
    {
     "name": "stdout",
     "output_type": "stream",
     "text": [
      "[3, 4]\n"
     ]
    }
   ],
   "source": [
    "print (x[1:3])"
   ]
  },
  {
   "cell_type": "code",
   "execution_count": 5,
   "metadata": {},
   "outputs": [
    {
     "name": "stdout",
     "output_type": "stream",
     "text": [
      "[3 4]\n"
     ]
    }
   ],
   "source": [
    "print (y[1:3])"
   ]
  },
  {
   "cell_type": "code",
   "execution_count": 6,
   "metadata": {
    "scrolled": true
   },
   "outputs": [
    {
     "ename": "TypeError",
     "evalue": "list indices must be integers or slices, not tuple",
     "output_type": "error",
     "traceback": [
      "\u001B[0;31m---------------------------------------------------------------------------\u001B[0m",
      "\u001B[0;31mTypeError\u001B[0m                                 Traceback (most recent call last)",
      "\u001B[0;32m<ipython-input-6-f4da8a1fd261>\u001B[0m in \u001B[0;36m<module>\u001B[0;34m\u001B[0m\n\u001B[0;32m----> 1\u001B[0;31m \u001B[0mprint\u001B[0m \u001B[0;34m(\u001B[0m\u001B[0mx\u001B[0m\u001B[0;34m[\u001B[0m\u001B[0;36m0\u001B[0m\u001B[0;34m,\u001B[0m \u001B[0;36m2\u001B[0m\u001B[0;34m]\u001B[0m\u001B[0;34m)\u001B[0m\u001B[0;34m\u001B[0m\u001B[0;34m\u001B[0m\u001B[0m\n\u001B[0m\u001B[1;32m      2\u001B[0m \u001B[0;34m\u001B[0m\u001B[0m\n",
      "\u001B[0;31mTypeError\u001B[0m: list indices must be integers or slices, not tuple"
     ]
    }
   ],
   "source": [
    "print (x[0, 2])"
   ]
  },
  {
   "cell_type": "code",
   "execution_count": 7,
   "metadata": {},
   "outputs": [
    {
     "name": "stdout",
     "output_type": "stream",
     "text": [
      "[2 4]\n"
     ]
    }
   ],
   "source": [
    "print (y[[0, 2]])"
   ]
  },
  {
   "cell_type": "code",
   "execution_count": 8,
   "metadata": {},
   "outputs": [
    {
     "name": "stdout",
     "output_type": "stream",
     "text": [
      "[4 6]\n"
     ]
    }
   ],
   "source": [
    "print (y[y>3])"
   ]
  },
  {
   "cell_type": "code",
   "execution_count": 9,
   "metadata": {},
   "outputs": [
    {
     "name": "stdout",
     "output_type": "stream",
     "text": [
      "[2, 3, 4, 6, 2, 3, 4, 6, 2, 3, 4, 6, 2, 3, 4, 6, 2, 3, 4, 6]\n"
     ]
    }
   ],
   "source": [
    "print (x * 5)"
   ]
  },
  {
   "cell_type": "code",
   "execution_count": 10,
   "metadata": {},
   "outputs": [
    {
     "name": "stdout",
     "output_type": "stream",
     "text": [
      "[10 15 20 30]\n"
     ]
    }
   ],
   "source": [
    "print (y * 5)"
   ]
  },
  {
   "cell_type": "code",
   "execution_count": 11,
   "metadata": {},
   "outputs": [
    {
     "ename": "TypeError",
     "evalue": "unsupported operand type(s) for ** or pow(): 'list' and 'int'",
     "output_type": "error",
     "traceback": [
      "\u001B[0;31m---------------------------------------------------------------------------\u001B[0m",
      "\u001B[0;31mTypeError\u001B[0m                                 Traceback (most recent call last)",
      "\u001B[0;32m<ipython-input-11-cfb107b32938>\u001B[0m in \u001B[0;36m<module>\u001B[0;34m\u001B[0m\n\u001B[0;32m----> 1\u001B[0;31m \u001B[0mprint\u001B[0m \u001B[0;34m(\u001B[0m\u001B[0mx\u001B[0m \u001B[0;34m**\u001B[0m \u001B[0;36m2\u001B[0m\u001B[0;34m)\u001B[0m\u001B[0;34m\u001B[0m\u001B[0;34m\u001B[0m\u001B[0m\n\u001B[0m\u001B[1;32m      2\u001B[0m \u001B[0;34m\u001B[0m\u001B[0m\n",
      "\u001B[0;31mTypeError\u001B[0m: unsupported operand type(s) for ** or pow(): 'list' and 'int'"
     ]
    }
   ],
   "source": [
    "print (x ** 2)"
   ]
  },
  {
   "cell_type": "code",
   "execution_count": 12,
   "metadata": {},
   "outputs": [
    {
     "name": "stdout",
     "output_type": "stream",
     "text": [
      "[ 4  9 16 36]\n"
     ]
    }
   ],
   "source": [
    "print (y ** 2)"
   ]
  },
  {
   "cell_type": "code",
   "execution_count": 14,
   "metadata": {},
   "outputs": [],
   "source": [
    "matrix = [[1, 2, 4], [3, 1, 0]]\n",
    "nd_array = np.array(matrix)"
   ]
  },
  {
   "cell_type": "code",
   "execution_count": 15,
   "metadata": {},
   "outputs": [
    {
     "name": "stdout",
     "output_type": "stream",
     "text": [
      "1\n"
     ]
    }
   ],
   "source": [
    "print (matrix[1][1])"
   ]
  },
  {
   "cell_type": "code",
   "execution_count": 16,
   "metadata": {},
   "outputs": [
    {
     "name": "stdout",
     "output_type": "stream",
     "text": [
      "0\n"
     ]
    }
   ],
   "source": [
    "print (nd_array[1, 2])"
   ]
  },
  {
   "cell_type": "code",
   "execution_count": 17,
   "metadata": {},
   "outputs": [
    {
     "name": "stdout",
     "output_type": "stream",
     "text": [
      "0.7291849627488262\n"
     ]
    }
   ],
   "source": [
    "print (np.random.rand())"
   ]
  },
  {
   "cell_type": "code",
   "execution_count": 18,
   "metadata": {},
   "outputs": [
    {
     "name": "stdout",
     "output_type": "stream",
     "text": [
      "-1.5115616974302963\n"
     ]
    }
   ],
   "source": [
    "print (np.random.randn())"
   ]
  },
  {
   "cell_type": "code",
   "execution_count": 19,
   "metadata": {},
   "outputs": [
    {
     "name": "stdout",
     "output_type": "stream",
     "text": [
      "[ 0.35499784 -0.08629142 -0.94110457 -0.22035896  0.60629877 -0.65806298\n",
      " -0.71413983 -1.15192313 -0.13018382  0.75412222]\n"
     ]
    }
   ],
   "source": [
    "print (np.random.randn(10))"
   ]
  },
  {
   "cell_type": "code",
   "execution_count": 20,
   "metadata": {},
   "outputs": [
    {
     "name": "stdout",
     "output_type": "stream",
     "text": [
      "[[ 0.49976845  0.40962174  0.0578898  -0.20656979 -1.34022924]\n",
      " [-0.23396587  0.4490152  -0.20439835  0.05152882  0.25115221]\n",
      " [-0.58795667  1.06075981 -0.02523033  2.56999047  0.72235012]\n",
      " [ 0.7801373  -0.19395238  1.10189928  0.28826218 -1.63701533]]\n"
     ]
    }
   ],
   "source": [
    "print (np.random.randn(4, 5))"
   ]
  },
  {
   "cell_type": "code",
   "execution_count": 21,
   "metadata": {},
   "outputs": [
    {
     "name": "stdout",
     "output_type": "stream",
     "text": [
      "[0.  0.1 0.2 0.3 0.4 0.5 0.6 0.7 0.8 0.9 1.  1.1 1.2 1.3 1.4 1.5 1.6 1.7\n",
      " 1.8 1.9 2.  2.1 2.2 2.3 2.4 2.5 2.6 2.7 2.8 2.9 3.  3.1 3.2 3.3 3.4 3.5\n",
      " 3.6 3.7 3.8 3.9 4.  4.1 4.2 4.3 4.4 4.5 4.6 4.7 4.8 4.9 5.  5.1 5.2 5.3\n",
      " 5.4 5.5 5.6 5.7 5.8 5.9 6.  6.1 6.2 6.3 6.4 6.5 6.6 6.7 6.8 6.9 7.  7.1\n",
      " 7.2 7.3 7.4 7.5 7.6 7.7 7.8 7.9]\n"
     ]
    }
   ],
   "source": [
    "print (np.arange(0, 8, 0.1))"
   ]
  },
  {
   "cell_type": "code",
   "execution_count": 22,
   "metadata": {},
   "outputs": [
    {
     "ename": "TypeError",
     "evalue": "'float' object cannot be interpreted as an integer",
     "output_type": "error",
     "traceback": [
      "\u001B[0;31m---------------------------------------------------------------------------\u001B[0m",
      "\u001B[0;31mTypeError\u001B[0m                                 Traceback (most recent call last)",
      "\u001B[0;32m<ipython-input-22-c7cd1de94c3a>\u001B[0m in \u001B[0;36m<module>\u001B[0;34m\u001B[0m\n\u001B[0;32m----> 1\u001B[0;31m \u001B[0mprint\u001B[0m \u001B[0;34m(\u001B[0m\u001B[0mrange\u001B[0m\u001B[0;34m(\u001B[0m\u001B[0;36m0\u001B[0m\u001B[0;34m,\u001B[0m \u001B[0;36m8\u001B[0m\u001B[0;34m,\u001B[0m \u001B[0;36m0.1\u001B[0m\u001B[0;34m)\u001B[0m\u001B[0;34m)\u001B[0m\u001B[0;34m\u001B[0m\u001B[0;34m\u001B[0m\u001B[0m\n\u001B[0m",
      "\u001B[0;31mTypeError\u001B[0m: 'float' object cannot be interpreted as an integer"
     ]
    }
   ],
   "source": [
    "print (range(0, 8, 0.1))"
   ]
  },
  {
   "cell_type": "code",
   "execution_count": 23,
   "metadata": {},
   "outputs": [
    {
     "name": "stdout",
     "output_type": "stream",
     "text": [
      "7.36 µs ± 961 ns per loop (mean ± std. dev. of 7 runs, 100000 loops each)\n",
      "303 ns ± 2.62 ns per loop (mean ± std. dev. of 7 runs, 1000000 loops each)\n"
     ]
    }
   ],
   "source": [
    "%timeit (np.arange(0, 10000))\n",
    "%timeit (range(0, 10000))"
   ]
  },
  {
   "cell_type": "code",
   "execution_count": 24,
   "metadata": {},
   "outputs": [
    {
     "name": "stdout",
     "output_type": "stream",
     "text": [
      "308 µs ± 11.6 µs per loop (mean ± std. dev. of 7 runs, 1000 loops each)\n"
     ]
    }
   ],
   "source": [
    "%timeit for _ in range(10000): True"
   ]
  },
  {
   "cell_type": "code",
   "execution_count": 25,
   "metadata": {},
   "outputs": [
    {
     "name": "stdout",
     "output_type": "stream",
     "text": [
      "[[1 2]\n",
      " [3 4]\n",
      " [5 6]\n",
      " [7 8]]\n"
     ]
    }
   ],
   "source": [
    "import numpy as np\n",
    "\n",
    "arr1 = np.array([[1, 2], [3, 4]])\n",
    "\n",
    "arr2 = np.array([[5, 6], [7, 8]])\n",
    "\n",
    "arr = np.concatenate((arr1, arr2), axis=0)\n",
    "\n",
    "print(arr)"
   ]
  },
  {
   "cell_type": "markdown",
   "metadata": {},
   "source": [
    "## SciPy"
   ]
  },
  {
   "cell_type": "code",
   "execution_count": 86,
   "metadata": {},
   "outputs": [],
   "source": [
    "from scipy import optimize"
   ]
  },
  {
   "cell_type": "code",
   "execution_count": 88,
   "metadata": {},
   "outputs": [
    {
     "name": "stdout",
     "output_type": "stream",
     "text": [
      "3.0\n"
     ]
    }
   ],
   "source": [
    "def f(x):\n",
    "    return (x[0] - 3.2) ** 2 + (x[1] - 0.1) ** 2 + 3\n",
    "\n",
    "print (f([3.2, 0.1]))"
   ]
  },
  {
   "cell_type": "code",
   "execution_count": 90,
   "metadata": {},
   "outputs": [
    {
     "name": "stdout",
     "output_type": "stream",
     "text": [
      "      fun: 3.0000000000011435\n",
      " hess_inv: array([[ 0.94055055, -0.16183475],\n",
      "       [-0.16183475,  0.55944947]])\n",
      "      jac: array([-2.05636024e-06,  5.36441803e-07])\n",
      "  message: 'Optimization terminated successfully.'\n",
      "     nfev: 16\n",
      "      nit: 3\n",
      "     njev: 4\n",
      "   status: 0\n",
      "  success: True\n",
      "        x: array([3.19999896, 0.10000026])\n"
     ]
    }
   ],
   "source": [
    "x_min = optimize.minimize(f, [5, 5])\n",
    "print (x_min)"
   ]
  },
  {
   "cell_type": "code",
   "execution_count": 92,
   "metadata": {},
   "outputs": [
    {
     "name": "stdout",
     "output_type": "stream",
     "text": [
      "[3.19999896 0.10000026]\n"
     ]
    }
   ],
   "source": [
    "print (x_min.x)"
   ]
  },
  {
   "cell_type": "code",
   "execution_count": 93,
   "metadata": {},
   "outputs": [],
   "source": [
    "from scipy import linalg"
   ]
  },
  {
   "cell_type": "code",
   "execution_count": 97,
   "metadata": {},
   "outputs": [
    {
     "name": "stdout",
     "output_type": "stream",
     "text": [
      "[ 2. -2.  9.]\n"
     ]
    }
   ],
   "source": [
    "a = np.array([[3, 2, 0], [1, -1, 0], [0, 5, 1]])\n",
    "b = np.array([2, 4, -1])\n",
    "\n",
    "x = linalg.solve(a, b)\n",
    "print (x)"
   ]
  },
  {
   "cell_type": "code",
   "execution_count": 99,
   "metadata": {},
   "outputs": [
    {
     "name": "stdout",
     "output_type": "stream",
     "text": [
      "[14 -2 19]\n"
     ]
    }
   ],
   "source": [
    "a = np.array([[3, 2, 0], [1, -1, 0], [0, 5, 1]])\n",
    "b = np.array([2, 4, -1])\n",
    "\n",
    "print(np.dot(a,b))"
   ]
  },
  {
   "cell_type": "code",
   "execution_count": 98,
   "metadata": {},
   "outputs": [
    {
     "name": "stdout",
     "output_type": "stream",
     "text": [
      "[ 2.  4. -1.]\n"
     ]
    }
   ],
   "source": [
    "print (np.dot(a, x))"
   ]
  },
  {
   "cell_type": "code",
   "execution_count": 102,
   "metadata": {},
   "outputs": [
    {
     "name": "stdout",
     "output_type": "stream",
     "text": [
      "(4, 4) (3,) (3, 3)\n",
      "<class 'numpy.ndarray'> <class 'numpy.ndarray'> <class 'numpy.ndarray'>\n"
     ]
    }
   ],
   "source": [
    "X = np.random.randn(4, 3)\n",
    "U, D, V = linalg.svd(X)\n",
    "print (U.shape, D.shape, V.shape)\n",
    "print (type(U), type(D), type(V))"
   ]
  },
  {
   "cell_type": "markdown",
   "metadata": {},
   "source": [
    "## Matplotlib"
   ]
  },
  {
   "cell_type": "code",
   "execution_count": 103,
   "metadata": {},
   "outputs": [],
   "source": [
    "%matplotlib inline"
   ]
  },
  {
   "cell_type": "code",
   "execution_count": 104,
   "metadata": {},
   "outputs": [
    {
     "data": {
      "image/png": "[encoded data removed]",
      "text/plain": [
       "<Figure size 432x288 with 1 Axes>"
      ]
     },
     "metadata": {
      "needs_background": "light"
     },
     "output_type": "display_data"
    }
   ],
   "source": [
    "from matplotlib import pylab as plt\n",
    "\n",
    "plt.plot([1, 2, 3, 4], [1, 4, 9, 16])\n",
    "plt.show()"
   ]
  },
  {
   "cell_type": "code",
   "execution_count": 105,
   "metadata": {},
   "outputs": [
    {
     "data": {
      "image/png": "[encoded data removed]",
      "text/plain": [
       "<Figure size 432x288 with 1 Axes>"
      ]
     },
     "metadata": {
      "needs_background": "light"
     },
     "output_type": "display_data"
    }
   ],
   "source": [
    "x = np.arange(-10, 10, 0.1)\n",
    "y = x ** 3\n",
    "plt.plot(x, y)\n",
    "plt.show()"
   ]
  },
  {
   "cell_type": "markdown",
   "metadata": {},
   "source": [
    "## Все вместе"
   ]
  },
  {
   "cell_type": "code",
   "execution_count": 106,
   "metadata": {},
   "outputs": [],
   "source": [
    "%matplotlib inline\n",
    "import numpy as np\n",
    "import matplotlib.pyplot as plt\n",
    "from scipy import interpolate"
   ]
  },
  {
   "cell_type": "code",
   "execution_count": 108,
   "metadata": {},
   "outputs": [
    {
     "name": "stdout",
     "output_type": "stream",
     "text": [
      "[0 2 4 6 8]\n",
      "[1.08762481 0.55195969 0.27635573 0.08008163 0.03711723]\n"
     ]
    }
   ],
   "source": [
    "x = np.arange(0, 10, 2)\n",
    "y = np.exp(-x/3.0) + np.random.randn(len(x)) * 0.05\n",
    "\n",
    "print (x[:5])\n",
    "print (y[:5])"
   ]
  },
  {
   "cell_type": "code",
   "execution_count": 109,
   "metadata": {},
   "outputs": [],
   "source": [
    "f = interpolate.interp1d(x, y, kind='quadratic')\n",
    "xnew = np.arange(0, 8, 0.1)\n",
    "ynew = f(xnew)"
   ]
  },
  {
   "cell_type": "code",
   "execution_count": 110,
   "metadata": {},
   "outputs": [
    {
     "data": {
      "image/png": "[encoded data removed]",
      "text/plain": [
       "<Figure size 432x288 with 1 Axes>"
      ]
     },
     "metadata": {
      "needs_background": "light"
     },
     "output_type": "display_data"
    }
   ],
   "source": [
    "plt.plot(x, y, 'o', xnew, ynew, '-')\n",
    "plt.show()"
   ]
  },
  {
   "cell_type": "code",
   "execution_count": 117,
   "metadata": {},
   "outputs": [
    {
     "data": {
      "text/plain": [
       "'1.4.1'"
      ]
     },
     "execution_count": 117,
     "metadata": {},
     "output_type": "execute_result"
    }
   ],
   "source": [
    "import scipy\n",
    "scipy.__version__"
   ]
  },
  {
   "cell_type": "code",
   "execution_count": 118,
   "metadata": {},
   "outputs": [
    {
     "name": "stdout",
     "output_type": "stream",
     "text": [
      "Package                       Version             Latest      Type \n",
      "----------------------------- ------------------- ----------- -----\n",
      "appscript                     1.0.1               1.1.1       wheel\n",
      "asn1crypto                    1.3.0               1.4.0       wheel\n",
      "astroid                       2.3.3               2.4.2       wheel\n",
      "astropy                       4.0                 4.0.1.post1 wheel\n",
      "atomicwrites                  1.3.0               1.4.0       wheel\n",
      "attrs                         19.3.0              20.1.0      wheel\n",
      "autopep8                      1.4.4               1.5.4       sdist\n",
      "backcall                      0.1.0               0.2.0       wheel\n",
      "beautifulsoup4                4.8.2               4.9.1       wheel\n",
      "bitarray                      1.2.1               1.5.3       sdist\n",
      "bleach                        3.1.0               3.1.5       wheel\n",
      "bokeh                         1.4.0               2.2.0       sdist\n",
      "certifi                       2019.11.28          2020.6.20   wheel\n",
      "cffi                          1.14.0              1.14.2      wheel\n",
      "Click                         7.0                 7.1.2       wheel\n",
      "cloudpickle                   1.3.0               1.6.0       wheel\n",
      "cryptography                  2.8                 3.1         wheel\n",
      "Cython                        0.29.15             0.29.21     wheel\n",
      "dask                          2.11.0              2.24.0      wheel\n",
      "decorator                     4.4.1               4.4.2       wheel\n",
      "diff-match-patch              20181111            20200713    wheel\n",
      "distributed                   2.11.0              2.24.0      wheel\n",
      "flake8                        3.7.9               3.8.3       wheel\n",
      "Flask                         1.1.1               1.1.2       wheel\n",
      "fsspec                        0.6.2               0.8.0       wheel\n",
      "gevent                        1.4.0               20.6.2      wheel\n",
      "greenlet                      0.4.15              0.4.16      sdist\n",
      "html5lib                      1.0.1               1.1         wheel\n",
      "hypothesis                    5.5.4               5.29.1      wheel\n",
      "idna                          2.8                 2.10        wheel\n",
      "imageio                       2.6.1               2.9.0       wheel\n",
      "importlib-metadata            1.5.0               1.7.0       wheel\n",
      "intervaltree                  3.0.2               3.1.0       sdist\n",
      "ipykernel                     5.1.4               5.3.4       wheel\n",
      "ipython                       7.12.0              7.17.0      wheel\n",
      "isort                         4.3.21              5.4.2       wheel\n",
      "jedi                          0.14.1              0.17.2      wheel\n",
      "Jinja2                        2.11.1              2.11.2      wheel\n",
      "joblib                        0.14.1              0.16.0      wheel\n",
      "json5                         0.9.1               0.9.5       wheel\n",
      "jupyter-client                5.3.4               6.1.7       wheel\n",
      "jupyter-core                  4.6.1               4.6.3       wheel\n",
      "jupyterlab                    1.2.6               2.2.6       wheel\n",
      "jupyterlab-server             1.0.6               1.2.0       wheel\n",
      "keyring                       21.1.0              21.3.1      wheel\n",
      "kiwisolver                    1.1.0               1.2.0       wheel\n",
      "lazy-object-proxy             1.4.3               1.5.1       sdist\n",
      "libarchive-c                  2.8                 2.9         wheel\n",
      "lief                          0.9.0               0.10.1      wheel\n",
      "llvmlite                      0.31.0              0.34.0      wheel\n",
      "lxml                          4.5.0               4.5.2       wheel\n",
      "matplotlib                    3.1.3               3.3.1       wheel\n",
      "mock                          4.0.1               4.0.2       wheel\n",
      "more-itertools                8.2.0               8.4.0       wheel\n",
      "msgpack                       0.6.1               1.0.0       wheel\n",
      "nbformat                      5.0.4               5.0.7       wheel\n",
      "networkx                      2.4                 2.5         wheel\n",
      "nltk                          3.4.5               3.5         sdist\n",
      "notebook                      6.0.3               6.1.3       wheel\n",
      "numba                         0.48.0              0.51.1      sdist\n",
      "numpy                         1.18.1              1.19.1      wheel\n",
      "numpydoc                      0.9.2               1.1.0       wheel\n",
      "openpyxl                      3.0.3               3.0.5       wheel\n",
      "packaging                     20.1                20.4        wheel\n",
      "parso                         0.5.2               0.8.0       wheel\n",
      "path                          13.1.0              15.0.0      wheel\n",
      "Pillow                        7.0.0               7.2.0       wheel\n",
      "pip                           20.0.2              20.2.2      wheel\n",
      "prometheus-client             0.7.1               0.8.0       wheel\n",
      "prompt-toolkit                3.0.3               3.0.6       wheel\n",
      "psutil                        5.6.7               5.7.2       sdist\n",
      "py                            1.8.1               1.9.0       wheel\n",
      "pycodestyle                   2.5.0               2.6.0       wheel\n",
      "pycparser                     2.19                2.20        wheel\n",
      "pydocstyle                    4.0.1               5.1.0       wheel\n",
      "pyflakes                      2.1.1               2.2.0       wheel\n",
      "Pygments                      2.5.2               2.6.1       wheel\n",
      "pylint                        2.4.4               2.6.0       wheel\n",
      "pyodbc                        4.0.0-unsupported   4.0.30      wheel\n",
      "pyparsing                     2.4.6               2.4.7       wheel\n",
      "pyrsistent                    0.15.7              0.16.0      sdist\n",
      "pytest                        5.3.5               6.0.1       wheel\n",
      "pytest-doctestplus            0.5.0               0.8.0       sdist\n",
      "pytest-openfiles              0.4.0               0.5.0       wheel\n",
      "python-language-server        0.31.7              0.34.1      wheel\n",
      "pytz                          2019.3              2020.1      wheel\n",
      "PyYAML                        5.3                 5.3.1       sdist\n",
      "pyzmq                         18.1.1              19.0.2      wheel\n",
      "QDarkStyle                    2.8                 2.8.1       wheel\n",
      "QtAwesome                     0.6.1               0.7.2       wheel\n",
      "qtconsole                     4.6.0               4.7.6       wheel\n",
      "requests                      2.22.0              2.24.0      wheel\n",
      "rope                          0.16.0              0.17.0      sdist\n",
      "Rtree                         0.9.3               0.9.4       sdist\n",
      "ruamel-yaml                   0.15.87             0.16.10     wheel\n",
      "scikit-image                  0.16.2              0.17.2      wheel\n",
      "scikit-learn                  0.22.1              0.23.2      wheel\n",
      "scipy                         1.4.1               1.5.2       wheel\n",
      "seaborn                       0.10.0              0.10.1      wheel\n",
      "setuptools                    46.0.0.post20200309 49.6.0      wheel\n",
      "six                           1.14.0              1.15.0      wheel\n",
      "sortedcollections             1.1.2               1.2.1       wheel\n",
      "sortedcontainers              2.1.0               2.2.2       wheel\n",
      "soupsieve                     1.9.5               2.0.1       wheel\n",
      "Sphinx                        2.4.0               3.2.1       wheel\n",
      "sphinxcontrib-applehelp       1.0.1               1.0.2       wheel\n",
      "sphinxcontrib-devhelp         1.0.1               1.0.2       wheel\n",
      "sphinxcontrib-htmlhelp        1.0.2               1.0.3       wheel\n",
      "sphinxcontrib-qthelp          1.0.2               1.0.3       wheel\n",
      "sphinxcontrib-serializinghtml 1.1.3               1.1.4       wheel\n",
      "sphinxcontrib-websupport      1.2.0               1.2.4       wheel\n",
      "spyder                        4.0.1               4.1.4       wheel\n",
      "spyder-kernels                1.8.1               1.9.3       wheel\n",
      "SQLAlchemy                    1.3.13              1.3.19      sdist\n",
      "statsmodels                   0.11.0              0.12.0      wheel\n",
      "sympy                         1.5.1               1.6.2       wheel\n",
      "tblib                         1.6.0               1.7.0       wheel\n",
      "tornado                       6.0.3               6.0.4       sdist\n",
      "tqdm                          4.42.1              4.48.2      wheel\n",
      "ujson                         1.35                3.1.0       sdist\n",
      "urllib3                       1.25.8              1.25.10     wheel\n",
      "watchdog                      0.10.2              0.10.3      sdist\n",
      "wcwidth                       0.1.8               0.2.5       wheel\n",
      "Werkzeug                      1.0.0               1.0.1       wheel\n",
      "wheel                         0.34.2              0.35.1      wheel\n",
      "wrapt                         1.11.2              1.12.1      sdist\n",
      "wurlitzer                     2.0.0               2.0.1       wheel\n",
      "XlsxWriter                    1.2.7               1.3.3       wheel\n",
      "xlwings                       0.17.1              0.20.5      sdist\n",
      "yapf                          0.28.0              0.30.0      wheel\n",
      "zict                          1.0.0               2.0.0       wheel\n",
      "zipp                          2.2.0               3.1.0       wheel\n",
      "Note: you may need to restart the kernel to use updated packages.\n"
     ]
    }
   ],
   "source": [
    "pip list --outdated"
   ]
  }
 ],
 "metadata": {
  "kernelspec": {
   "display_name": "Python 3",
   "language": "python",
   "name": "python3"
  },
  "language_info": {
   "codemirror_mode": {
    "name": "ipython",
    "version": 3
   },
   "file_extension": ".py",
   "mimetype": "text/x-python",
   "name": "python",
   "nbconvert_exporter": "python",
   "pygments_lexer": "ipython3",
   "version": "3.8.5"
  }
 },
 "nbformat": 4,
 "nbformat_minor": 4
}