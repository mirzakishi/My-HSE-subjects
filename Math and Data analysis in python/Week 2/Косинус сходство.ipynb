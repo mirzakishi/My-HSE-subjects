{
 "cells": [
  {
   "cell_type": "markdown",
   "metadata": {},
   "source": [
    "#### Косинус сходство"
   ]
  },
  {
   "cell_type": "code",
   "execution_count": 21,
   "metadata": {},
   "outputs": [],
   "source": [
    "import re\n",
    "import string\n",
    "from sklearn.metrics.pairwise import cosine_similarity\n",
    "from sklearn.feature_extraction.text import CountVectorizer\n",
    "from nltk.corpus import stopwords\n",
    "stopwords=stopwords.words('english')"
   ]
  },
  {
   "cell_type": "code",
   "execution_count": 24,
   "metadata": {},
   "outputs": [
    {
     "data": {
      "text/plain": [
       "['In comparison to dogs, cats have not undergone major changes during the domestication process.',\n",
       " 'As cat simply catenates streams of bytes, it can be also used to concatenate binary files, where it will just concatenate sequence of bytes.',\n",
       " 'A common interactive use of cat for a single file is to output the content of a file to standard output.',\n",
       " 'Cats can hear sounds too faint or too high in frequency for human ears, such as those made by mice and other small animals.',\n",
       " 'In one, people deliberately tamed cats in a process of artificial selection, as they were useful predators of vermin.',\n",
       " 'The domesticated cat and its closest wild ancestor are both diploid organisms that possess 38 chromosomes and roughly 20,000 genes.',\n",
       " 'Domestic cats are similar in size to the other members of the genus Felis, typically weighing between 4 and 5 kg (8.8 and 11.0 lb).',\n",
       " 'However, if the output is piped or redirected, cat is unnecessary.',\n",
       " 'cat with one named file is safer where human error is a concern - one wrong use of the default redirection symbol \">\" instead of \"<\" (often adjacent on keyboards) may permanently delete the file you were just needing to read.',\n",
       " 'In terms of legibility, a sequence of commands starting with cat and connected by pipes has a clear left-to-right flow of information.',\n",
       " 'Cat command is one of the basic commands that you learned when you started in the Unix / Linux world.',\n",
       " 'Using cat command, the lines received from stdin can be redirected to a new file using redirection symbols.',\n",
       " 'When you type simply cat command without any arguments, it just receives the stdin content and displays it in the stdout.',\n",
       " 'Leopard was released on October 26, 2007 as the successor of Tiger (version 10.4), and is available in two editions.',\n",
       " 'According to Apple, Leopard contains over 300 changes and enhancements over its predecessor, Mac OS X Tiger.',\n",
       " 'As of Mid 2010, some Apple computers have firmware factory installed which will no longer allow installation of Mac OS X Leopard.',\n",
       " 'Since Apple moved to using Intel processors in their computers, the OSx86 community has developed and now also allows Mac OS X Tiger and later releases to be installed on non-Apple x86-based computers.',\n",
       " \"OS X Mountain Lion was released on July 25, 2012 for purchase and download through Apple's Mac App Store, as part of a switch to releasing OS X versions online and every year.\",\n",
       " 'Apple has released a small patch for the three most recent versions of Safari running on OS X Yosemite, Mavericks, and Mountain Lion.',\n",
       " 'The Mountain Lion release marks the second time Apple has offered an incremental upgrade, rather than releasing a new cat entirely.',\n",
       " \"Mac OS X Mountain Lion installs in place, so you won't need to create a separate disk or run the installation off an external drive.\",\n",
       " \"The fifth major update to Mac OS X, Leopard, contains such a mountain of features - more than 300 by Apple's count.\",\n",
       " '']"
      ]
     },
     "execution_count": 24,
     "metadata": {},
     "output_type": "execute_result"
    }
   ],
   "source": [
    "file=open('sentences.txt', 'r').read()\n",
    "#file.count('\\n') # count number of sentences\n",
    "\n",
    "sentences=re.split('\\n', file)\n",
    "sentences"
   ]
  },
  {
   "cell_type": "code",
   "execution_count": 58,
   "metadata": {},
   "outputs": [],
   "source": [
    "def clean_string(text):\n",
    "    text=''.join([word for word in text if word not in string.punctuation])\n",
    "    text=text.lower()\n",
    "    #text=' '.join([word for word in text.split() if word not in stopwords])\n",
    "    \n",
    "    return text"
   ]
  },
  {
   "cell_type": "code",
   "execution_count": 59,
   "metadata": {},
   "outputs": [
    {
     "data": {
      "text/plain": [
       "['in comparison to dogs cats have not undergone major changes during the domestication process',\n",
       " 'as cat simply catenates streams of bytes it can be also used to concatenate binary files where it will just concatenate sequence of bytes',\n",
       " 'a common interactive use of cat for a single file is to output the content of a file to standard output',\n",
       " 'cats can hear sounds too faint or too high in frequency for human ears such as those made by mice and other small animals',\n",
       " 'in one people deliberately tamed cats in a process of artificial selection as they were useful predators of vermin',\n",
       " 'the domesticated cat and its closest wild ancestor are both diploid organisms that possess 38 chromosomes and roughly 20000 genes',\n",
       " 'domestic cats are similar in size to the other members of the genus felis typically weighing between 4 and 5 kg 88 and 110 lb',\n",
       " 'however if the output is piped or redirected cat is unnecessary',\n",
       " 'cat with one named file is safer where human error is a concern  one wrong use of the default redirection symbol  instead of  often adjacent on keyboards may permanently delete the file you were just needing to read',\n",
       " 'in terms of legibility a sequence of commands starting with cat and connected by pipes has a clear lefttoright flow of information',\n",
       " 'cat command is one of the basic commands that you learned when you started in the unix  linux world',\n",
       " 'using cat command the lines received from stdin can be redirected to a new file using redirection symbols',\n",
       " 'when you type simply cat command without any arguments it just receives the stdin content and displays it in the stdout',\n",
       " 'leopard was released on october 26 2007 as the successor of tiger version 104 and is available in two editions',\n",
       " 'according to apple leopard contains over 300 changes and enhancements over its predecessor mac os x tiger',\n",
       " 'as of mid 2010 some apple computers have firmware factory installed which will no longer allow installation of mac os x leopard',\n",
       " 'since apple moved to using intel processors in their computers the osx86 community has developed and now also allows mac os x tiger and later releases to be installed on nonapple x86based computers',\n",
       " 'os x mountain lion was released on july 25 2012 for purchase and download through apples mac app store as part of a switch to releasing os x versions online and every year',\n",
       " 'apple has released a small patch for the three most recent versions of safari running on os x yosemite mavericks and mountain lion',\n",
       " 'the mountain lion release marks the second time apple has offered an incremental upgrade rather than releasing a new cat entirely',\n",
       " 'mac os x mountain lion installs in place so you wont need to create a separate disk or run the installation off an external drive',\n",
       " 'the fifth major update to mac os x leopard contains such a mountain of features  more than 300 by apples count']"
      ]
     },
     "execution_count": 59,
     "metadata": {},
     "output_type": "execute_result"
    }
   ],
   "source": [
    "cleaned=list(map(clean_string, sentences)) \n",
    "del cleaned[22]\n",
    "cleaned"
   ]
  },
  {
   "cell_type": "code",
   "execution_count": 60,
   "metadata": {},
   "outputs": [
    {
     "data": {
      "text/plain": [
       "22"
      ]
     },
     "execution_count": 60,
     "metadata": {},
     "output_type": "execute_result"
    }
   ],
   "source": [
    "len(cleaned)"
   ]
  },
  {
   "cell_type": "code",
   "execution_count": 61,
   "metadata": {},
   "outputs": [
    {
     "data": {
      "text/plain": [
       "array([[0, 0, 0, ..., 0, 0, 0],\n",
       "       [0, 0, 0, ..., 0, 0, 0],\n",
       "       [0, 0, 0, ..., 0, 0, 0],\n",
       "       ...,\n",
       "       [0, 0, 0, ..., 0, 0, 0],\n",
       "       [0, 0, 0, ..., 0, 0, 1],\n",
       "       [0, 0, 0, ..., 0, 0, 0]])"
      ]
     },
     "execution_count": 61,
     "metadata": {},
     "output_type": "execute_result"
    }
   ],
   "source": [
    "vectorizer=CountVectorizer().fit_transform(cleaned)\n",
    "vectors=vectorizer.toarray()\n",
    "vectors"
   ]
  },
  {
   "cell_type": "code",
   "execution_count": 62,
   "metadata": {},
   "outputs": [
    {
     "name": "stdout",
     "output_type": "stream",
     "text": [
      "(22, 261)\n"
     ]
    }
   ],
   "source": [
    "print(vectors.shape)"
   ]
  },
  {
   "cell_type": "code",
   "execution_count": 90,
   "metadata": {},
   "outputs": [
    {
     "data": {
      "text/plain": [
       "0.772078847080724"
      ]
     },
     "execution_count": 90,
     "metadata": {},
     "output_type": "execute_result"
    }
   ],
   "source": [
    "from scipy.spatial import distance\n",
    "\n",
    "distance.cosine(vectors[0], vectors[4])"
   ]
  },
  {
   "cell_type": "code",
   "execution_count": 111,
   "metadata": {},
   "outputs": [
    {
     "data": {
      "text/plain": [
       "0.7428277500631801"
      ]
     },
     "execution_count": 111,
     "metadata": {},
     "output_type": "execute_result"
    }
   ],
   "source": [
    "from scipy.spatial import distance\n",
    "\n",
    "distance.cosine(vectors[0], vectors[6])"
   ]
  },
  {
   "cell_type": "code",
   "execution_count": 109,
   "metadata": {},
   "outputs": [
    {
     "data": {
      "text/plain": [
       "0.8160581981545103"
      ]
     },
     "execution_count": 109,
     "metadata": {},
     "output_type": "execute_result"
    }
   ],
   "source": [
    "from scipy.spatial import distance\n",
    "\n",
    "distance.cosine(vectors[0], vectors[21])"
   ]
  },
  {
   "cell_type": "markdown",
   "metadata": {},
   "source": [
    "#### Another way"
   ]
  },
  {
   "cell_type": "code",
   "execution_count": 54,
   "metadata": {},
   "outputs": [
    {
     "data": {
      "text/plain": [
       "array([[1.        , 0.        , 0.        , 0.10206207, 0.21320072,\n",
       "        0.        , 0.09805807, 0.        , 0.        , 0.        ,\n",
       "        0.        , 0.        , 0.        , 0.        , 0.10660036,\n",
       "        0.        , 0.        , 0.        , 0.        , 0.        ,\n",
       "        0.        , 0.10206207],\n",
       "       [0.        , 1.        , 0.06262243, 0.        , 0.        ,\n",
       "        0.06726728, 0.        , 0.09901475, 0.04583492, 0.14002801,\n",
       "        0.0766965 , 0.06482037, 0.14625448, 0.        , 0.        ,\n",
       "        0.        , 0.05057217, 0.        , 0.        , 0.06262243,\n",
       "        0.        , 0.        ],\n",
       "       [0.        , 0.06262243, 1.        , 0.        , 0.        ,\n",
       "        0.07161149, 0.        , 0.31622777, 0.29277002, 0.0745356 ,\n",
       "        0.08164966, 0.20701967, 0.15569979, 0.        , 0.        ,\n",
       "        0.        , 0.        , 0.        , 0.        , 0.06666667,\n",
       "        0.        , 0.        ],\n",
       "       [0.10206207, 0.        , 0.        , 1.        , 0.08703883,\n",
       "        0.        , 0.08006408, 0.        , 0.05455447, 0.        ,\n",
       "        0.        , 0.        , 0.        , 0.        , 0.        ,\n",
       "        0.        , 0.        , 0.        , 0.07715167, 0.        ,\n",
       "        0.        , 0.        ],\n",
       "       [0.21320072, 0.        , 0.        , 0.08703883, 1.        ,\n",
       "        0.        , 0.0836242 , 0.        , 0.11396058, 0.        ,\n",
       "        0.09534626, 0.        , 0.        , 0.        , 0.        ,\n",
       "        0.        , 0.        , 0.        , 0.        , 0.        ,\n",
       "        0.        , 0.        ],\n",
       "       [0.        , 0.06726728, 0.07161149, 0.        , 0.        ,\n",
       "        1.        , 0.        , 0.1132277 , 0.05241424, 0.08006408,\n",
       "        0.0877058 , 0.07412493, 0.0836242 , 0.        , 0.        ,\n",
       "        0.        , 0.        , 0.        , 0.        , 0.07161149,\n",
       "        0.        , 0.        ],\n",
       "       [0.09805807, 0.        , 0.        , 0.08006408, 0.0836242 ,\n",
       "        0.        , 1.        , 0.        , 0.        , 0.        ,\n",
       "        0.        , 0.        , 0.        , 0.        , 0.        ,\n",
       "        0.        , 0.        , 0.        , 0.        , 0.        ,\n",
       "        0.        , 0.        ],\n",
       "       [0.        , 0.09901475, 0.31622777, 0.        , 0.        ,\n",
       "        0.1132277 , 0.        , 1.        , 0.07715167, 0.11785113,\n",
       "        0.12909944, 0.21821789, 0.12309149, 0.        , 0.        ,\n",
       "        0.        , 0.        , 0.        , 0.        , 0.10540926,\n",
       "        0.        , 0.        ],\n",
       "       [0.        , 0.04583492, 0.29277002, 0.05455447, 0.11396058,\n",
       "        0.05241424, 0.        , 0.07715167, 1.        , 0.05455447,\n",
       "        0.17928429, 0.20203051, 0.05698029, 0.        , 0.        ,\n",
       "        0.        , 0.        , 0.        , 0.        , 0.048795  ,\n",
       "        0.        , 0.        ],\n",
       "       [0.        , 0.14002801, 0.0745356 , 0.        , 0.        ,\n",
       "        0.08006408, 0.        , 0.11785113, 0.05455447, 1.        ,\n",
       "        0.18257419, 0.07715167, 0.08703883, 0.        , 0.        ,\n",
       "        0.        , 0.        , 0.        , 0.        , 0.0745356 ,\n",
       "        0.        , 0.        ],\n",
       "       [0.        , 0.0766965 , 0.08164966, 0.        , 0.09534626,\n",
       "        0.0877058 , 0.        , 0.12909944, 0.17928429, 0.18257419,\n",
       "        1.        , 0.16903085, 0.19069252, 0.        , 0.        ,\n",
       "        0.        , 0.        , 0.        , 0.        , 0.08164966,\n",
       "        0.        , 0.        ],\n",
       "       [0.        , 0.06482037, 0.20701967, 0.        , 0.        ,\n",
       "        0.07412493, 0.        , 0.21821789, 0.20203051, 0.07715167,\n",
       "        0.16903085, 1.        , 0.24174689, 0.        , 0.        ,\n",
       "        0.        , 0.11145564, 0.        , 0.        , 0.13801311,\n",
       "        0.        , 0.        ],\n",
       "       [0.        , 0.14625448, 0.15569979, 0.        , 0.        ,\n",
       "        0.0836242 , 0.        , 0.12309149, 0.05698029, 0.08703883,\n",
       "        0.19069252, 0.24174689, 1.        , 0.        , 0.        ,\n",
       "        0.        , 0.        , 0.        , 0.        , 0.07784989,\n",
       "        0.        , 0.        ],\n",
       "       [0.        , 0.        , 0.        , 0.        , 0.        ,\n",
       "        0.        , 0.        , 0.        , 0.        , 0.        ,\n",
       "        0.        , 0.        , 0.        , 1.        , 0.17407766,\n",
       "        0.08006408, 0.06019293, 0.06019293, 0.07715167, 0.        ,\n",
       "        0.        , 0.08333333],\n",
       "       [0.10660036, 0.        , 0.        , 0.        , 0.        ,\n",
       "        0.        , 0.        , 0.        , 0.        , 0.        ,\n",
       "        0.        , 0.        , 0.        , 0.17407766, 1.        ,\n",
       "        0.3344968 , 0.25147785, 0.18860838, 0.16116459, 0.07784989,\n",
       "        0.15569979, 0.43519414],\n",
       "       [0.        , 0.        , 0.        , 0.        , 0.        ,\n",
       "        0.        , 0.        , 0.        , 0.        , 0.        ,\n",
       "        0.        , 0.        , 0.        , 0.08006408, 0.3344968 ,\n",
       "        1.        , 0.34698896, 0.17349448, 0.14824986, 0.07161149,\n",
       "        0.21483446, 0.24019223],\n",
       "       [0.        , 0.05057217, 0.        , 0.        , 0.        ,\n",
       "        0.        , 0.        , 0.        , 0.        , 0.        ,\n",
       "        0.        , 0.11145564, 0.        , 0.06019293, 0.25147785,\n",
       "        0.34698896, 1.        , 0.13043478, 0.11145564, 0.05383819,\n",
       "        0.10767638, 0.12038585],\n",
       "       [0.        , 0.        , 0.        , 0.        , 0.        ,\n",
       "        0.        , 0.        , 0.        , 0.        , 0.        ,\n",
       "        0.        , 0.        , 0.        , 0.06019293, 0.18860838,\n",
       "        0.17349448, 0.13043478, 1.        , 0.33436693, 0.16151457,\n",
       "        0.26919095, 0.30096463],\n",
       "       [0.        , 0.        , 0.        , 0.07715167, 0.        ,\n",
       "        0.        , 0.        , 0.        , 0.        , 0.        ,\n",
       "        0.        , 0.        , 0.        , 0.07715167, 0.16116459,\n",
       "        0.14824986, 0.11145564, 0.33436693, 1.        , 0.20701967,\n",
       "        0.20701967, 0.15430335],\n",
       "       [0.        , 0.06262243, 0.06666667, 0.        , 0.        ,\n",
       "        0.07161149, 0.        , 0.10540926, 0.048795  , 0.0745356 ,\n",
       "        0.08164966, 0.13801311, 0.07784989, 0.        , 0.07784989,\n",
       "        0.07161149, 0.05383819, 0.16151457, 0.20701967, 1.        ,\n",
       "        0.13333333, 0.0745356 ],\n",
       "       [0.        , 0.        , 0.        , 0.        , 0.        ,\n",
       "        0.        , 0.        , 0.        , 0.        , 0.        ,\n",
       "        0.        , 0.        , 0.        , 0.        , 0.15569979,\n",
       "        0.21483446, 0.10767638, 0.26919095, 0.20701967, 0.13333333,\n",
       "        1.        , 0.2236068 ],\n",
       "       [0.10206207, 0.        , 0.        , 0.        , 0.        ,\n",
       "        0.        , 0.        , 0.        , 0.        , 0.        ,\n",
       "        0.        , 0.        , 0.        , 0.08333333, 0.43519414,\n",
       "        0.24019223, 0.12038585, 0.30096463, 0.15430335, 0.0745356 ,\n",
       "        0.2236068 , 1.        ]])"
      ]
     },
     "execution_count": 54,
     "metadata": {},
     "output_type": "execute_result"
    }
   ],
   "source": [
    "csim=cosine_similarity(vectors)\n",
    "csim"
   ]
  },
  {
   "cell_type": "code",
   "execution_count": 56,
   "metadata": {},
   "outputs": [],
   "source": [
    "def cosine_sim_vectors(vec1, vec2):\n",
    "    vec1=vec1.reshape(1, -1)\n",
    "    vec2=vec2.reshape(1, -1)\n",
    "    \n",
    "    return cosine_similarity(vec1, vec2)[0][0]"
   ]
  },
  {
   "cell_type": "code",
   "execution_count": 57,
   "metadata": {},
   "outputs": [
    {
     "data": {
      "text/plain": [
       "0.0"
      ]
     },
     "execution_count": 57,
     "metadata": {},
     "output_type": "execute_result"
    }
   ],
   "source": [
    "cosine_sim_vectors(vectors[0], vectors[1])"
   ]
  },
  {
   "cell_type": "code",
   "execution_count": null,
   "metadata": {},
   "outputs": [],
   "source": []
  }
 ],
 "metadata": {
  "kernelspec": {
   "display_name": "Python 3",
   "language": "python",
   "name": "python3"
  },
  "language_info": {
   "codemirror_mode": {
    "name": "ipython",
    "version": 3
   },
   "file_extension": ".py",
   "mimetype": "text/x-python",
   "name": "python",
   "nbconvert_exporter": "python",
   "pygments_lexer": "ipython3",
   "version": "3.7.6"
  }
 },
 "nbformat": 4,
 "nbformat_minor": 4
}
